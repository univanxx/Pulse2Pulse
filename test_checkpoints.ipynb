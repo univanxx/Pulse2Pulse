{
 "cells": [
  {
   "cell_type": "code",
   "execution_count": 1,
   "id": "d9c62312-1f78-4773-b162-ca01508dbfaa",
   "metadata": {},
   "outputs": [],
   "source": [
    "import torch"
   ]
  },
  {
   "cell_type": "code",
   "execution_count": 3,
   "id": "9a644c6c-0012-4de3-98fd-f1622ad69ec2",
   "metadata": {},
   "outputs": [],
   "source": [
    "from models.pulse2pulse import WaveGANDiscriminator"
   ]
  },
  {
   "cell_type": "code",
   "execution_count": 2,
   "id": "e7fc4dc3-57e7-46f5-a98f-f5f85698a73f",
   "metadata": {},
   "outputs": [],
   "source": [
    "chk_path = \"/work/vajira/DATA/pulse2pulse_checkpoint/006_WG_RYTHM_10s_normal_only_pulse2pulse_30000.pt\""
   ]
  },
  {
   "cell_type": "code",
   "execution_count": 5,
   "id": "dc22b83d-8714-4420-ae5f-b550b64e2bd0",
   "metadata": {},
   "outputs": [],
   "source": [
    "netD = WaveGANDiscriminator(model_size=50, ngpus=1)"
   ]
  },
  {
   "cell_type": "code",
   "execution_count": 6,
   "id": "f619e436-27d4-4b0e-b79c-a8cc3d00ae48",
   "metadata": {},
   "outputs": [],
   "source": [
    "chkpnt = torch.load(chk_path)"
   ]
  },
  {
   "cell_type": "code",
   "execution_count": 7,
   "id": "abf73fbb-ef1c-4016-af92-6a524de5415b",
   "metadata": {},
   "outputs": [
    {
     "data": {
      "text/plain": [
       "<All keys matched successfully>"
      ]
     },
     "execution_count": 7,
     "metadata": {},
     "output_type": "execute_result"
    }
   ],
   "source": [
    "netD.load_state_dict(chkpnt[\"netD_state_dict\"])"
   ]
  },
  {
   "cell_type": "code",
   "execution_count": null,
   "id": "219bf156-4c67-4775-877e-cfa86360dde5",
   "metadata": {},
   "outputs": [],
   "source": []
  }
 ],
 "metadata": {
  "kernelspec": {
   "display_name": "pytorch18",
   "language": "python",
   "name": "pytorch18"
  },
  "language_info": {
   "codemirror_mode": {
    "name": "ipython",
    "version": 3
   },
   "file_extension": ".py",
   "mimetype": "text/x-python",
   "name": "python",
   "nbconvert_exporter": "python",
   "pygments_lexer": "ipython3",
   "version": "3.8.8"
  }
 },
 "nbformat": 4,
 "nbformat_minor": 5
}
